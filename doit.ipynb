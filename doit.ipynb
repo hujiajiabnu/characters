{
 "cells": [
  {
   "cell_type": "code",
   "execution_count": 2,
   "metadata": {
    "collapsed": true
   },
   "outputs": [],
   "source": [
    "import os\n",
    "import codecs\n",
    "inputfolder=\"tobe\"\n",
    "outputfolder=\"done\""
   ]
  },
  {
   "cell_type": "code",
   "execution_count": 4,
   "metadata": {
    "collapsed": false
   },
   "outputs": [],
   "source": [
    "inputfiles=os.listdir(inputfolder)\n",
    "for file in inputfiles:\n",
    "    inputfile=inputfolder+\"/\"+file\n",
    "    outputfile=outputfolder+\"/\"+file\n",
    "    myinfile=open(inputfile, \"r\", encoding=\"utf-8\")\n",
    "    data=myinfile.read()\n",
    "    myinfile.close()\n",
    "    s=\"\"\n",
    "    for char in data:\n",
    "        if bytes(char, 'big5', 'ignore' ) :\n",
    "            s=s+char\n",
    "        else:\n",
    "            charbyte=\"&#\"+str(ord(char))\n",
    "            s=s+charbyte\n",
    "    myoutfile=open(outputfile, \"w\", encoding=\"utf-8\")\n",
    "    myoutfile.write(s)\n",
    "    myoutfile.close()     \n",
    " "
   ]
  },
  {
   "cell_type": "code",
   "execution_count": 5,
   "metadata": {
    "collapsed": true
   },
   "outputs": [],
   "source": [
    "inputfiles=os.listdir(inputfolder)\n",
    "for file in inputfiles:\n",
    "    inputfile=inputfolder+\"/\"+file\n",
    "    outputfile=outputfolder+\"/\"+file\n",
    "    myinfile=open(inputfile, \"r\", encoding=\"utf-8\")\n",
    "    data=myinfile.read()\n",
    "    myinfile.close()\n",
    "    s=\"\"\n",
    "    for char in data:\n",
    "        if bytes(char, 'big5', 'ignore' ) :\n",
    "            s=s+char\n",
    "        else:\n",
    "            charbyte=\"&#\"+str(ord(char))\n",
    "            s=s+charbyte\n",
    "    myoutfile=open(outputfile, \"w\", encoding=\"big5\")\n",
    "    myoutfile.write(s)\n",
    "    myoutfile.close()     "
   ]
  },
  {
   "cell_type": "code",
   "execution_count": null,
   "metadata": {
    "collapsed": true
   },
   "outputs": [],
   "source": []
  }
 ],
 "metadata": {
  "kernelspec": {
   "display_name": "Python 3",
   "language": "python",
   "name": "python3"
  },
  "language_info": {
   "codemirror_mode": {
    "name": "ipython",
    "version": 3
   },
   "file_extension": ".py",
   "mimetype": "text/x-python",
   "name": "python",
   "nbconvert_exporter": "python",
   "pygments_lexer": "ipython3",
   "version": "3.5.1"
  }
 },
 "nbformat": 4,
 "nbformat_minor": 0
}
